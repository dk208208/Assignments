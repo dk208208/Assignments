{
 "cells": [
  {
   "cell_type": "markdown",
   "id": "801a82f2",
   "metadata": {},
   "source": [
    "### 1. Write Linear Search Algorithm"
   ]
  },
  {
   "cell_type": "code",
   "execution_count": null,
   "id": "23c78dd8",
   "metadata": {},
   "outputs": [],
   "source": [
    " Linear Search ( Array A, Value x)\n",
    "\n",
    "Step 1: Set i to 1\n",
    "Step 2: if i > n then go to step 7\n",
    "Step 3: if A[i] = x then go to step 6\n",
    "Step 4: Set i to i + 1\n",
    "Step 5: Go to Step 2\n",
    "Step 6: Print Element x Found at index i and go to step 8\n",
    "Step 7: Print element not found\n",
    "Step 8: Exit"
   ]
  },
  {
   "cell_type": "markdown",
   "id": "af4b03bc",
   "metadata": {},
   "source": [
    "### 2. Write Binary Search Algorithm"
   ]
  },
  {
   "cell_type": "code",
   "execution_count": null,
   "id": "5b6170cd",
   "metadata": {},
   "outputs": [],
   "source": [
    "Binary search is implemented using following steps...\n",
    "\n",
    "Step 1 - Read the search element from the user.\n",
    "Step 2 - Find the middle element in the sorted list.\n",
    "Step 3 - Compare the search element with the middle element in the sorted list.\n",
    "Step 4 - If both are matched, then display \"Given element is found!!!\" and terminate the function.\n",
    "Step 5 - If both are not matched, then check whether the search element is smaller or larger than the middle element.\n",
    "Step 6 - If the search element is smaller than middle element, repeat steps 2, 3, 4 and 5 for the left sublist of the middle element.\n",
    "Step 7 - If the search element is larger than middle element, repeat steps 2, 3, 4 and 5 for the right sublist of the middle element.\n",
    "Step 8 - Repeat the same process until we find the search element in the list or until sublist contains only one element.\n",
    "Step 9 - If that element also doesn't match with the search element, then display \"Element is not found in the list!!!\" and terminate the function."
   ]
  },
  {
   "cell_type": "markdown",
   "id": "d0a949ed",
   "metadata": {},
   "source": [
    "### 3. Implement a dictionary sort using bubble sort"
   ]
  },
  {
   "cell_type": "code",
   "execution_count": 1,
   "id": "72d4b962",
   "metadata": {},
   "outputs": [
    {
     "name": "stdout",
     "output_type": "stream",
     "text": [
      "Sorted array is:\n",
      " \n",
      "  11\n",
      " \n",
      "  12\n",
      " \n",
      "  22\n",
      " \n",
      "  25\n",
      " \n",
      "  34\n",
      " \n",
      "  64\n",
      " \n",
      "  90\n"
     ]
    }
   ],
   "source": [
    "def bubbleSort(arr):\n",
    "    n = len(arr)\n",
    "\n",
    "    for i in range(n):\n",
    "\n",
    "        for j in range(0, n-i-1):\n",
    "\n",
    "            if arr[j] > arr[j+1] :\n",
    "                arr[j], arr[j+1] = arr[j+1], arr[j]\n",
    "\n",
    "arr = [64, 34, 25, 12, 22, 11, 90]\n",
    "bubbleSort(arr)\n",
    "\n",
    "print (\"Sorted array is:\")\n",
    "for i in range(len(arr)):\n",
    "    print (\" \\n \" ,arr[i])"
   ]
  },
  {
   "cell_type": "markdown",
   "id": "d965ea1a",
   "metadata": {},
   "source": [
    "### 4. Sort an array of numbers using insertion sort"
   ]
  },
  {
   "cell_type": "code",
   "execution_count": 2,
   "id": "eac46344",
   "metadata": {},
   "outputs": [
    {
     "name": "stdout",
     "output_type": "stream",
     "text": [
      "\n",
      " 5\n",
      "\n",
      " 6\n",
      "\n",
      " 11\n",
      "\n",
      " 12\n",
      "\n",
      " 13\n"
     ]
    }
   ],
   "source": [
    "def insertionSort(arr):\n",
    "\n",
    "    for i in range(1, len(arr)):\n",
    "\n",
    "        key = arr[i]\n",
    "\n",
    "        j = i-1\n",
    "        while j >= 0 and key < arr[j] :\n",
    "                arr[j + 1] = arr[j]\n",
    "                j -= 1\n",
    "        arr[j + 1] = key\n",
    "\n",
    "arr = [12, 11, 13, 5, 6]\n",
    "insertionSort(arr)\n",
    "for i in range(len(arr)):\n",
    "    print (\"\\n\" ,arr[i])"
   ]
  },
  {
   "cell_type": "markdown",
   "id": "7d48b9ab",
   "metadata": {},
   "source": [
    "### 5. Sort an array of numbers using insertion sor"
   ]
  },
  {
   "cell_type": "code",
   "execution_count": 5,
   "id": "ae474abf",
   "metadata": {},
   "outputs": [
    {
     "name": "stdout",
     "output_type": "stream",
     "text": [
      "Sorted array\n",
      " \n",
      "  64\n",
      " \n",
      "  25\n",
      " \n",
      "  12\n",
      " \n",
      "  22\n",
      " \n",
      "  11\n"
     ]
    }
   ],
   "source": [
    "A = [64, 25, 12, 22, 11]\n",
    "for i in range(len(A)):\n",
    "    min_idx = i\n",
    "    for j in range(i+1, len(A)):\n",
    "        if A[min_idx] > A[j]:\n",
    "            min_idx = j\n",
    "A[i], A[min_idx] = A[min_idx], A[i]\n",
    "\n",
    "print (\"Sorted array\")\n",
    "for i in range(len(A)):\n",
    "    print(\" \\n \" ,A[i])"
   ]
  }
 ],
 "metadata": {
  "kernelspec": {
   "display_name": "Python 3 (ipykernel)",
   "language": "python",
   "name": "python3"
  },
  "language_info": {
   "codemirror_mode": {
    "name": "ipython",
    "version": 3
   },
   "file_extension": ".py",
   "mimetype": "text/x-python",
   "name": "python",
   "nbconvert_exporter": "python",
   "pygments_lexer": "ipython3",
   "version": "3.9.7"
  }
 },
 "nbformat": 4,
 "nbformat_minor": 5
}
